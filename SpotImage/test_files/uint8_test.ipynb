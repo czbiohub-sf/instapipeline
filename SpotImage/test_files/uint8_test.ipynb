{
 "cells": [
  {
   "cell_type": "markdown",
   "metadata": {},
   "source": [
    "# Objective\n",
    "\n",
    "This notebook shows the spot images and parameters generated on 13 July 2018 and ready for worker annotations."
   ]
  },
  {
   "cell_type": "code",
   "execution_count": 1,
   "metadata": {},
   "outputs": [],
   "source": [
    "import cv2\n",
    "import numpy as np"
   ]
  },
  {
   "cell_type": "markdown",
   "metadata": {},
   "source": [
    "A representative image from each type involved in this project\n",
    " - smfish.png is a real image. \n",
    " - smfish_0.png is a real image cropped saved from an array by plt.imsave\n",
    " - snr_5_1_numspots_50_spot_img.png is a simulated image saved from an array by plt.imsave\n",
    " - snr_8_1_numspots_50_spot_img_inv.png is a simulated image saved from an array by plt.imsave and then inverted in fijiand saved by fiji"
   ]
  },
  {
   "cell_type": "code",
   "execution_count": 2,
   "metadata": {
    "scrolled": false
   },
   "outputs": [
    {
     "name": "stdout",
     "output_type": "stream",
     "text": [
      "MAX_ISP_300_1_nspots50_spot_sig1.75_snr10_20_spot_img.png\n",
      "data type: uint8\n",
      "max value: 255\n",
      "\n",
      "smfish.png\n",
      "data type: uint8\n",
      "max value: 206\n",
      "\n",
      "smfish_0.png\n",
      "data type: uint8\n",
      "max value: 255\n",
      "\n",
      "snr_5_1_numspots_50_spot_img.png\n",
      "data type: uint8\n",
      "max value: 255\n",
      "\n",
      "snr_8_1_numspots_50_spot_img_inv.png\n",
      "data type: uint8\n",
      "max value: 255\n",
      "\n"
     ]
    }
   ],
   "source": [
    "img_filenames = ['MAX_ISP_300_1_nspots50_spot_sig1.75_snr10_20_spot_img.png',\n",
    "                'smfish.png',\n",
    "                'smfish_0.png',\n",
    "                'snr_5_1_numspots_50_spot_img.png',\n",
    "                'snr_8_1_numspots_50_spot_img_inv.png']\n",
    "for img_filename in img_filenames:\n",
    "    img = cv2.imread(img_filename)\n",
    "    print(img_filename)\n",
    "    print('data type:', img.dtype)\n",
    "    print('max value:', np.amax(img))\n",
    "    print()"
   ]
  },
  {
   "cell_type": "code",
   "execution_count": null,
   "metadata": {},
   "outputs": [],
   "source": []
  }
 ],
 "metadata": {
  "kernelspec": {
   "display_name": "Python 3",
   "language": "python",
   "name": "python3"
  },
  "language_info": {
   "codemirror_mode": {
    "name": "ipython",
    "version": 3
   },
   "file_extension": ".py",
   "mimetype": "text/x-python",
   "name": "python",
   "nbconvert_exporter": "python",
   "pygments_lexer": "ipython3",
   "version": "3.6.5"
  }
 },
 "nbformat": 4,
 "nbformat_minor": 2
}
