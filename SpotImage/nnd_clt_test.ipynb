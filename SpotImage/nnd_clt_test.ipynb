{
 "cells": [
  {
   "cell_type": "code",
   "execution_count": 2,
   "metadata": {
    "scrolled": false
   },
   "outputs": [
    {
     "data": {
      "image/png": "[encoded data removed]",
      "text/plain": [
       "<Figure size 432x288 with 1 Axes>"
      ]
     },
     "metadata": {},
     "output_type": "display_data"
    }
   ],
   "source": [
    "import numpy as np\n",
    "import matplotlib.pyplot as plt\n",
    "import random\n",
    "from sklearn.neighbors import KDTree\n",
    "%matplotlib inline  \n",
    "\n",
    "img_sz = 40000\n",
    "valid_array = np.zeros([img_sz, img_sz])\n",
    "\n",
    "num_spots = 10000\n",
    "spot_list = []\n",
    "\n",
    "for i in range(num_spots):\n",
    "    coord_x = random.randint(0, img_sz-1)\n",
    "    coord_y = random.randint(0, img_sz-1)\n",
    "#    plt.scatter([coord_x], [coord_y])\n",
    "    spot_list.append([coord_x,coord_y])\n",
    "#    print(i)\n",
    "#plt.show()\n",
    "\n",
    "spots_kdt = KDTree(spot_list, leaf_size=2, metric='euclidean')\n",
    "\n",
    "NND_list = []\n",
    "for spot in spot_list:\n",
    "    spot = [spot]\n",
    "    dist, ind = spots_kdt.query(spot, k=2)\n",
    "    NND_list.append(dist[0][1])\n",
    "\n",
    "# print(NND_list)\n",
    "\n",
    "step_size = 1\n",
    "\n",
    "plt.hist(NND_list, bins = np.arange(0,max(NND_list)+step_size,step=step_size)-step_size/2)\n",
    "plt.title(\"NND CLT Test\")\n",
    "plt.xlabel(\"Nearest Neighbor Distance\")\n",
    "plt.ylabel(\"Number of Points\")\n",
    "plt.show()"
   ]
  },
  {
   "cell_type": "code",
   "execution_count": null,
   "metadata": {},
   "outputs": [],
   "source": []
  }
 ],
 "metadata": {
  "kernelspec": {
   "display_name": "Python 3",
   "language": "python",
   "name": "python3"
  },
  "language_info": {
   "codemirror_mode": {
    "name": "ipython",
    "version": 3
   },
   "file_extension": ".py",
   "mimetype": "text/x-python",
   "name": "python",
   "nbconvert_exporter": "python",
   "pygments_lexer": "ipython3",
   "version": "3.6.5"
  }
 },
 "nbformat": 4,
 "nbformat_minor": 2
}
