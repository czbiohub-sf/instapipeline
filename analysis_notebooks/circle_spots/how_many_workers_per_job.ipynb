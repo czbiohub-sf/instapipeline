{
 "cells": [
  {
   "cell_type": "markdown",
   "metadata": {},
   "source": [
    "### Takeaway:\n",
    "Workers contributing to the job with the polygon annotation_type (the circle_spots job) abandoned the job after annotating fewer images than workers contributing to the jobs with the crosshairs annotation_type.\n",
    "\n",
    "Not sure yet whether this insight is useful. I just got curious when I saw the long list of unique annotators contributing to the 'circle_spots' job.\n",
    "\n",
    "But thanks to the magic of crowdsourcing, the job did get done and I'm looking forward to finding out the quality of the annotations once I've updated the annotation ingestion and analysis classes enough to take a look!"
   ]
  },
  {
   "cell_type": "code",
   "execution_count": 24,
   "metadata": {},
   "outputs": [
    {
     "name": "stdout",
     "output_type": "stream",
     "text": [
      "avg num unique workers per image / num unique workers contributing to the whole job\n",
      "22 / 112\n",
      "19 /  41\n",
      "24 /  59\n",
      "24 /  55\n",
      "29 /  50\n",
      "30 /  81\n",
      "30 /  71\n",
      "29 /  68\n"
     ]
    }
   ],
   "source": [
    "from SpotAnnotationAnalysis import SpotAnnotationAnalysis\n",
    "from BaseAnnotation import BaseAnnotation\n",
    "from QuantiusAnnotation import QuantiusAnnotation\n",
    "from matplotlib import pyplot as plt\n",
    "from scipy import stats\n",
    "import numpy as np\n",
    "\n",
    "# All annotation data available\n",
    "json_filepath_list = ['/Users/jenny.vo-phamhi/Documents/FISH-annotation/Annotation/circle_spots/circle_spots.json', \n",
    "                 '/Users/jenny.vo-phamhi/Documents/FISH-annotation/Annotation/BeadAnnotation_20180413.json',\n",
    "                 '/Users/jenny.vo-phamhi/Documents/FISH-annotation/Annotation/density_test/Spot_density.json',\n",
    "                 '/Users/jenny.vo-phamhi/Documents/FISH-annotation/Annotation/density_test/Spots_density_no_tissue.json',\n",
    "                 '/Users/jenny.vo-phamhi/Documents/FISH-annotation/Annotation/gen_20180713/SNR_test.json',\n",
    "                 '/Users/jenny.vo-phamhi/Documents/FISH-annotation/Annotation/gen_20180719/SynthData_cells.json',\n",
    "                 '/Users/jenny.vo-phamhi/Documents/FISH-annotation/Annotation/gen_20180719/SynthTests_tissue.json',\n",
    "                 '/Users/jenny.vo-phamhi/Documents/FISH-annotation/Annotation/gen_20180725/InvTest.json']\n",
    "\n",
    "print('avg num unique workers per image / num unique workers contributing to the whole job')\n",
    "for json_filepath in json_filepath_list:\n",
    "    ba = QuantiusAnnotation(json_filepath)\n",
    "    sa = SpotAnnotationAnalysis(ba)\n",
    "    anno_all = ba.df()\n",
    "    worker_list = ba.get_workers(anno_all)\n",
    "    image_list = ba.get_images(anno_all)\n",
    "    num_workers_per_image_list = []\n",
    "    for image in image_list:\n",
    "        anno_one_image = ba.slice_by_image(anno_all, image)\n",
    "        workers_one_image = ba.get_workers(anno_one_image)\n",
    "        num_workers_per_image_list.append(len(workers_one_image))\n",
    "    print('{0:2d} {1:1s} {2:3d}'.format(int(np.mean(num_workers_per_image_list)), '/', len(worker_list)))"
   ]
  },
  {
   "cell_type": "code",
   "execution_count": null,
   "metadata": {},
   "outputs": [],
   "source": []
  }
 ],
 "metadata": {
  "kernelspec": {
   "display_name": "Python 3",
   "language": "python",
   "name": "python3"
  },
  "language_info": {
   "codemirror_mode": {
    "name": "ipython",
    "version": 3
   },
   "file_extension": ".py",
   "mimetype": "text/x-python",
   "name": "python",
   "nbconvert_exporter": "python",
   "pygments_lexer": "ipython3",
   "version": "3.6.5"
  }
 },
 "nbformat": 4,
 "nbformat_minor": 2
}
