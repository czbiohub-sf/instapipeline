{
 "cells": [
  {
   "cell_type": "code",
   "execution_count": 1,
   "metadata": {
    "scrolled": false
   },
   "outputs": [
    {
     "name": "stdout",
     "output_type": "stream",
     "text": [
      "\n",
      "------------ real ------------\n",
      "\n",
      "using skimage\n",
      "data type of original: uint8\n",
      "\n",
      "using open cv\n",
      "data type of original: uint8\n",
      "max value of original: 206\n",
      "data type of grayscale: uint8\n",
      "max value of grayscale: 206\n",
      "\n",
      "------------ real_blacked ------------\n",
      "\n",
      "using skimage\n",
      "data type of original: uint8\n",
      "\n",
      "using open cv\n",
      "data type of original: uint8\n",
      "max value of original: 255\n",
      "data type of grayscale: uint8\n",
      "max value of grayscale: 255\n",
      "\n",
      "------------ real_cropped ------------\n",
      "\n",
      "using skimage\n",
      "data type of original: uint8\n",
      "\n",
      "using open cv\n",
      "data type of original: uint8\n",
      "max value of original: 255\n",
      "data type of grayscale: uint8\n",
      "max value of grayscale: 255\n",
      "\n",
      "------------ simulated ------------\n",
      "\n",
      "using skimage\n",
      "data type of original: uint8\n",
      "\n",
      "using open cv\n",
      "data type of original: uint8\n",
      "max value of original: 255\n",
      "data type of grayscale: uint8\n",
      "max value of grayscale: 255\n",
      "\n",
      "------------ simulated_inv ------------\n",
      "\n",
      "using skimage\n",
      "data type of original: uint8\n",
      "\n",
      "using open cv\n",
      "data type of original: uint8\n",
      "max value of original: 255\n",
      "data type of grayscale: uint8\n",
      "max value of grayscale: 255\n"
     ]
    }
   ],
   "source": [
    "from skimage import img_as_ubyte\n",
    "from skimage import io\n",
    "import cv2\n",
    "import numpy as np\n",
    "\n",
    "for name in ['real', 'real_blacked', 'real_cropped', 'simulated', 'simulated_inv']:\n",
    "    print()\n",
    "    print('------------', name, '------------')\n",
    "    print()\n",
    "    print('using skimage')\n",
    "\n",
    "    filename = name + '.png'\n",
    "    image = io.imread(filename)\n",
    "    print('data type of original:', image.dtype)\n",
    "    \n",
    "    print()\n",
    "    print('using open cv')\n",
    "    \n",
    "    img = cv2.imread(filename)\n",
    "    img_gray = cv2.cvtColor(img, cv2.COLOR_RGB2GRAY)\n",
    "\n",
    "    print('data type of original:', img.dtype)\n",
    "    print('max value of original:', np.amax(img))\n",
    "    print('data type of grayscale:', img_gray.dtype)\n",
    "    print('max value of grayscale:', np.amax(img_gray))"
   ]
  },
  {
   "cell_type": "code",
   "execution_count": null,
   "metadata": {},
   "outputs": [],
   "source": []
  }
 ],
 "metadata": {
  "kernelspec": {
   "display_name": "Python 3",
   "language": "python",
   "name": "python3"
  },
  "language_info": {
   "codemirror_mode": {
    "name": "ipython",
    "version": 3
   },
   "file_extension": ".py",
   "mimetype": "text/x-python",
   "name": "python",
   "nbconvert_exporter": "python",
   "pygments_lexer": "ipython3",
   "version": "3.6.5"
  }
 },
 "nbformat": 4,
 "nbformat_minor": 2
}
