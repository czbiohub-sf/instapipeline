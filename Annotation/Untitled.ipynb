{
 "cells": [
  {
   "cell_type": "code",
   "execution_count": 1,
   "metadata": {},
   "outputs": [],
   "source": [
    "from SpotAnnotationAnalysis import SpotAnnotationAnalysis\n",
    "from BaseAnnotation import BaseAnnotation\n",
    "from QuantiusAnnotation import QuantiusAnnotation\n",
    "\n",
    "worker_marker_size = 8\n",
    "cluster_marker_size = 40\n",
    "bigger_window_size = False\n",
    "img_height = 300\n",
    "\n",
    "json_filename = 'SynthTests_tissue.json'\n",
    "gen_date = '20180719'\n",
    "bg_type = 'tissue'\n",
    "img_name = 'MAX_ISP_300_1_nspots150_spot_sig1.75_snr10_2.5'\n",
    "\n",
    "img_filename = img_name+'spot_img.png'\n",
    "img_filepath = '/Users/jenny.vo-phamhi/Documents/FISH-annotation/Annotation/gen_'+gen_date+'/spot_images/'+bg_type+'/'+img_name+'spot_img.png'\n",
    "csv_filepath = '/Users/jenny.vo-phamhi/Documents/FISH-annotation/Annotation/gen_'+gen_date+'/spot_data/'+bg_type+'/'+img_name+'_coord_snr_list.csv'\n",
    "json_filepath = '/Users/jenny.vo-phamhi/Documents/FISH-annotation/Annotation/gen_'+gen_date+'/'+json_filename\n",
    "\n",
    "ba = QuantiusAnnotation(json_filepath)\n",
    "sa = SpotAnnotationAnalysis(ba)\n",
    "anno_all = ba.df()\n",
    "anno_one_snr = ba.slice_by_image(anno_all, img_filename)\n",
    "\n",
    "plot_title = img_name\n",
    "\n",
    "show_ref_points = False\n",
    "show_workers = True\n",
    "show_clusters = True\n",
    "clustering_params = ['AffinityPropagation', -350]\n",
    "show_correctness_workers = False\n",
    "show_correctness_clusters = False\n",
    "show_NN_inc = False\n",
    "correctness_threshold = None\n",
    "pairwise_threshold = 1"
   ]
  },
  {
   "cell_type": "markdown",
   "metadata": {},
   "source": [
    "### Clustering all workers"
   ]
  },
  {
   "cell_type": "code",
   "execution_count": null,
   "metadata": {},
   "outputs": [],
   "source": [
    "sa.plot_annotations_per_cluster(anno_one_snr, clustering_params)"
   ]
  },
  {
   "cell_type": "markdown",
   "metadata": {},
   "source": [
    "### Clustering workers with high pairwise scores"
   ]
  },
  {
   "cell_type": "code",
   "execution_count": null,
   "metadata": {},
   "outputs": [],
   "source": [
    "df_good_workers_pairwise = sa.slice_by_worker_pairwise_scores(anno_one_snr, pairwise_threshold)\n",
    "sa.plot_annotations_per_cluster(df_good_workers_pairwise, clustering_params)"
   ]
  },
  {
   "cell_type": "code",
   "execution_count": null,
   "metadata": {},
   "outputs": [],
   "source": []
  }
 ],
 "metadata": {
  "kernelspec": {
   "display_name": "Python 3",
   "language": "python",
   "name": "python3"
  },
  "language_info": {
   "codemirror_mode": {
    "name": "ipython",
    "version": 3
   },
   "file_extension": ".py",
   "mimetype": "text/x-python",
   "name": "python",
   "nbconvert_exporter": "python",
   "pygments_lexer": "ipython3",
   "version": "3.6.5"
  }
 },
 "nbformat": 4,
 "nbformat_minor": 2
}
