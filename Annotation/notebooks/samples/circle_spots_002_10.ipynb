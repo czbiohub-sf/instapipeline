{
 "cells": [
  {
   "cell_type": "markdown",
   "metadata": {
    "scrolled": true
   },
   "source": [
    "# Objective\n",
    "Test annotation ingestion and analysis for circle spots."
   ]
  },
  {
   "cell_type": "code",
   "execution_count": 18,
   "metadata": {},
   "outputs": [],
   "source": [
    "from SpotAnnotationAnalysis import SpotAnnotationAnalysis\n",
    "from BaseAnnotation import BaseAnnotation\n",
    "from QuantiusAnnotation import QuantiusAnnotation\n",
    "from matplotlib import pyplot as plt\n",
    "\n",
    "json_filename = 'circle_spots.json'\n",
    "\n",
    "ba = QuantiusAnnotation(json_filename)\n",
    "sa = SpotAnnotationAnalysis(ba)\n",
    "anno_all = ba.df()"
   ]
  },
  {
   "cell_type": "code",
   "execution_count": 20,
   "metadata": {},
   "outputs": [
    {
     "name": "stdout",
     "output_type": "stream",
     "text": [
      "112\n"
     ]
    }
   ],
   "source": [
    "worker_list = ba.get_workers(anno_all)\n",
    "print(len(worker_list))"
   ]
  },
  {
   "cell_type": "code",
   "execution_count": 17,
   "metadata": {},
   "outputs": [
    {
     "name": "stdout",
     "output_type": "stream",
     "text": [
      "[[   40   241 29469]\n",
      " [   42   232 30738]\n",
      " [   51   230 33117]\n",
      " [   52   237 34459]\n",
      " [   45   241 35468]]\n",
      "[40 42 51 52 45]\n",
      "[241 232 230 237 241]\n"
     ]
    },
    {
     "data": {
      "image/png": "[encoded data removed]",
      "text/plain": [
       "<Figure size 432x288 with 1 Axes>"
      ]
     },
     "metadata": {},
     "output_type": "display_data"
    }
   ],
   "source": [
    "worker = 'A2QJP5BZ7B523H'\n",
    "anno_worker = ba.slice_by_worker(anno_all, worker)\n",
    "\n",
    "row = anno_worker.iloc[[0]]\n",
    "annotations = row.iloc[0]\n",
    "annotation_df = annotations[0]\n",
    "\n",
    "annotation_array = annotation_df.loc[:, ['x', 'y', 'timestamp']].as_matrix()\n",
    "annotation_x = annotation_array[:,0]\n",
    "annotation_y = annotation_array[:,1]\n",
    "\n",
    "print(annotation_array)\n",
    "print(annotation_x)\n",
    "print(annotation_y)\n",
    "plt.scatter(annotation_x,annotation_y)\n",
    "plt.show()"
   ]
  },
  {
   "cell_type": "code",
   "execution_count": null,
   "metadata": {},
   "outputs": [],
   "source": []
  },
  {
   "cell_type": "code",
   "execution_count": null,
   "metadata": {},
   "outputs": [],
   "source": []
  }
 ],
 "metadata": {
  "kernelspec": {
   "display_name": "Python 3",
   "language": "python",
   "name": "python3"
  },
  "language_info": {
   "codemirror_mode": {
    "name": "ipython",
    "version": 3
   },
   "file_extension": ".py",
   "mimetype": "text/x-python",
   "name": "python",
   "nbconvert_exporter": "python",
   "pygments_lexer": "ipython3",
   "version": "3.6.5"
  }
 },
 "nbformat": 4,
 "nbformat_minor": 2
}
