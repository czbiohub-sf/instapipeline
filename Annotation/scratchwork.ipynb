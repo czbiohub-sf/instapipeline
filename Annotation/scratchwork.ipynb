{
 "cells": [
  {
   "cell_type": "code",
   "execution_count": 24,
   "metadata": {},
   "outputs": [
    {
     "name": "stdout",
     "output_type": "stream",
     "text": [
      "   timestamp    x    y annotation_type  height  width      image_filename  \\\n",
      "0       8293  149  172      crosshairs     300    300  beads_300pxroi.png   \n",
      "1      11886  143  188      crosshairs     300    300  beads_300pxroi.png   \n",
      "2      15546  162  170      crosshairs     300    300  beads_300pxroi.png   \n",
      "3      17431  160  151      crosshairs     300    300  beads_300pxroi.png   \n",
      "\n",
      "            time_when_completed       worker_id  \n",
      "0  Sat Apr 14 19:25:47 PDT 2018  A3EL0EEIRKNWZW  \n",
      "1  Sat Apr 14 19:25:47 PDT 2018  A3EL0EEIRKNWZW  \n",
      "2  Sat Apr 14 19:25:47 PDT 2018  A3EL0EEIRKNWZW  \n",
      "3  Sat Apr 14 19:25:47 PDT 2018  A3EL0EEIRKNWZW  \n",
      "Empty DataFrame\n",
      "Columns: []\n",
      "Index: []\n"
     ]
    }
   ],
   "source": [
    "import pandas as pd\n",
    "import numpy as np\n",
    "\n",
    "from SpotAnnotationAnalysis import SpotAnnotationAnalysis\n",
    "from BaseAnnotation import BaseAnnotation\n",
    "from QuantiusAnnotation import QuantiusAnnotation\n",
    "\n",
    "ba = QuantiusAnnotation('BeadAnnotation_20180413.json')\n",
    "df = ba.df()\n",
    "df = ba.slice_by_worker(df, 'A3EL0EEIRKNWZW')\n",
    "occasions = np.unique(df.loc[:, ['time_when_completed']].as_matrix())\n",
    "occasion = occasions[0]\n",
    "one_occasion_df = df[df.time_when_completed == occasion]\n",
    "\n",
    "print(one_occasion_df)\n",
    "\n",
    "to_return = pd.DataFrame()\n",
    "to_return.append(one_occasion_df)\n",
    "print(to_return)\n",
    "\n",
    "# one_occasion_timestamps = one_occasion_df.loc[:, ['timestamp']].as_matrix()\n",
    "# print(one_occasion_timestamps)\n",
    "\n",
    "# for i in range(len(one_occasion_timestamps)-1, 0, -1):\n",
    "#     time_spent = one_occasion_timestamps[i][0] - one_occasion_timestamps[i-1][0]\n",
    "#     print(time_spent)\n",
    "#     if(time_spent<1000):\n",
    "#         print(one_occasion_df)\n",
    "#         print('dropped')\n",
    "#         print()"
   ]
  },
  {
   "cell_type": "code",
   "execution_count": 32,
   "metadata": {},
   "outputs": [
    {
     "name": "stdout",
     "output_type": "stream",
     "text": [
      "             name  reports  year\n",
      "Cochice     Jason        4  2012\n",
      "Pima        Molly       24  2012\n",
      "Santa Cruz   Tina       31  2013\n",
      "Maricopa     Jake        2  2014\n",
      "Yuma          Amy        3  2014\n",
      "C               J        4  2012\n",
      "P               M       24  2012\n",
      "SC              T       31  2013\n",
      "M              Ja        2  2014\n",
      "Y               A        3  2014\n"
     ]
    }
   ],
   "source": [
    "data = {'name': ['Jason', 'Molly', 'Tina', 'Jake', 'Amy'], \n",
    "        'year': [2012, 2012, 2013, 2014, 2014], \n",
    "        'reports': [4, 24, 31, 2, 3]}\n",
    "df = pd.DataFrame(data, index = ['Cochice', 'Pima', 'Santa Cruz', 'Maricopa', 'Yuma'])\n",
    "data2 = {'name': ['J', 'M', 'T', 'Ja', 'A'], \n",
    "        'year': [2012, 2012, 2013, 2014, 2014], \n",
    "        'reports': [4, 24, 31, 2, 3]}\n",
    "df2 = pd.DataFrame(data2, index = ['C', 'P', 'SC', 'M', 'Y'])\n",
    "df = df.append(df2)\n",
    "print(df)"
   ]
  },
  {
   "cell_type": "code",
   "execution_count": null,
   "metadata": {},
   "outputs": [],
   "source": []
  }
 ],
 "metadata": {
  "kernelspec": {
   "display_name": "Python 3",
   "language": "python",
   "name": "python3"
  },
  "language_info": {
   "codemirror_mode": {
    "name": "ipython",
    "version": 3
   },
   "file_extension": ".py",
   "mimetype": "text/x-python",
   "name": "python",
   "nbconvert_exporter": "python",
   "pygments_lexer": "ipython3",
   "version": "3.6.5"
  }
 },
 "nbformat": 4,
 "nbformat_minor": 2
}
