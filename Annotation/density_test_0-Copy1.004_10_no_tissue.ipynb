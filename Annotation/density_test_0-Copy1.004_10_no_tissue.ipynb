{
 "cells": [
  {
   "cell_type": "markdown",
   "metadata": {
    "scrolled": true
   },
   "source": [
    "# Objective\n",
    "Basic clustering and analysis for an SNR test image with the following properties:\n",
    "\n",
    "- Spot density: 0.002 spots/pixel\n",
    "- Spot shape: 2D Gaussian (sigma = 2 pixels)\n",
    "- SNR distribution: Gaussian (mu = 10, sigma = 0)\n",
    "- Background image: tissue\n",
    "- Spot image generated 20180824\n",
    "- Sent for annotation 20180824\n",
    "- Annotations received 20180827"
   ]
  },
  {
   "cell_type": "code",
   "execution_count": null,
   "metadata": {},
   "outputs": [],
   "source": [
    "from SpotAnnotationAnalysis import SpotAnnotationAnalysis\n",
    "from BaseAnnotation import BaseAnnotation\n",
    "from QuantiusAnnotation import QuantiusAnnotation\n",
    "worker_marker_size = 8\n",
    "cluster_marker_size = 40\n",
    "bigger_window_size = True\n",
    "img_height = 300"
   ]
  },
  {
   "cell_type": "code",
   "execution_count": null,
   "metadata": {},
   "outputs": [],
   "source": [
    "json_filename = 'Spots_density_no_tissue.json'\n",
    "img_name = 'snr_10_0_density_0.002'"
   ]
  },
  {
   "cell_type": "markdown",
   "metadata": {},
   "source": [
    "### Load data, get the dataframe "
   ]
  },
  {
   "cell_type": "code",
   "execution_count": null,
   "metadata": {},
   "outputs": [],
   "source": [
    "img_filename = img_name+'_spots.png'\n",
    "img_filepath = '/Users/jenny.vo-phamhi/Documents/FISH-annotation/Annotation/density_test/spot_arrays/'+img_filename\n",
    "csv_filepath = '/Users/jenny.vo-phamhi/Documents/FISH-annotation/Annotation/density_test/spot_data/'+img_name+'_coord_snr_list.csv'\n",
    "json_filepath = '/Users/jenny.vo-phamhi/Documents/FISH-annotation/Annotation/density_test/'+json_filename\n",
    "\n",
    "ba = QuantiusAnnotation(json_filepath)\n",
    "sa = SpotAnnotationAnalysis(ba)\n",
    "anno_all = ba.df()\n",
    "anno_one_snr = ba.slice_by_image(anno_all, img_filename)"
   ]
  },
  {
   "cell_type": "markdown",
   "metadata": {},
   "source": [
    "# Overview of Annotations \n",
    "#### Worker annotations only"
   ]
  },
  {
   "cell_type": "code",
   "execution_count": null,
   "metadata": {},
   "outputs": [],
   "source": [
    "show_ref_points = False\n",
    "show_workers = True\n",
    "show_clusters = False\n",
    "clustering_params = None\n",
    "show_correctness_workers = False\n",
    "show_correctness_clusters = False\n",
    "show_NN_inc = False\n",
    "correctness_threshold = None\n",
    "\n",
    "sa.plot_annotations(anno_all, img_filename, img_filepath, csv_filepath, worker_marker_size, cluster_marker_size, show_ref_points, show_workers, show_clusters, show_correctness_workers, show_correctness_clusters, show_NN_inc, correctness_threshold, clustering_params, bigger_window_size)"
   ]
  },
  {
   "cell_type": "markdown",
   "metadata": {},
   "source": [
    "#### Show reference points (big yellow dots)"
   ]
  },
  {
   "cell_type": "code",
   "execution_count": null,
   "metadata": {},
   "outputs": [],
   "source": [
    "show_ref_points = True\n",
    "show_workers = True\n",
    "show_clusters = False\n",
    "clustering_params = None\n",
    "show_correctness_workers = False\n",
    "show_correctness_clusters = False\n",
    "show_NN_inc = False\n",
    "correctness_threshold = None\n",
    "\n",
    "sa.plot_annotations(anno_all, img_filename, img_filepath, csv_filepath, worker_marker_size, cluster_marker_size, show_ref_points, show_workers, show_clusters, show_correctness_workers, show_correctness_clusters, show_NN_inc, correctness_threshold, clustering_params, bigger_window_size)"
   ]
  },
  {
   "cell_type": "markdown",
   "metadata": {},
   "source": [
    "#### Worker annotations with cluster centroids"
   ]
  },
  {
   "cell_type": "code",
   "execution_count": null,
   "metadata": {
    "scrolled": false
   },
   "outputs": [],
   "source": [
    "show_ref_points = False\n",
    "show_workers = True\n",
    "show_clusters = True\n",
    "clustering_params = ['AffinityPropagation', -350]\n",
    "show_correctness_workers = False\n",
    "show_correctness_clusters = False\n",
    "show_NN_inc = False\n",
    "correctness_threshold = None\n",
    "\n",
    "sa.plot_annotations(anno_all, img_filename, img_filepath, csv_filepath, worker_marker_size, cluster_marker_size, show_ref_points, show_workers, show_clusters, show_correctness_workers, show_correctness_clusters, show_NN_inc, correctness_threshold, clustering_params, bigger_window_size)"
   ]
  },
  {
   "cell_type": "markdown",
   "metadata": {},
   "source": [
    "#### correctness_threshold = 4, 10, 20"
   ]
  },
  {
   "cell_type": "code",
   "execution_count": null,
   "metadata": {},
   "outputs": [],
   "source": [
    "show_ref_points = True\n",
    "show_workers = True\n",
    "show_clusters = True\n",
    "clustering_params = ['AffinityPropagation', -350]\n",
    "show_correctness_workers = True\n",
    "show_correctness_clusters = False\n",
    "show_NN_inc = False\n",
    "correctness_threshold = 4\n",
    "\n",
    "sa.plot_annotations(anno_all, img_filename, img_filepath, csv_filepath, worker_marker_size, cluster_marker_size, show_ref_points, show_workers, show_clusters, show_correctness_workers, show_correctness_clusters, show_NN_inc, correctness_threshold, clustering_params, bigger_window_size)"
   ]
  },
  {
   "cell_type": "code",
   "execution_count": null,
   "metadata": {},
   "outputs": [],
   "source": [
    "show_ref_points = True\n",
    "show_workers = True\n",
    "show_clusters = True\n",
    "clustering_params = ['AffinityPropagation', -350]\n",
    "show_correctness_workers = True\n",
    "show_correctness_clusters = False\n",
    "show_NN_inc = False\n",
    "correctness_threshold = 10\n",
    "\n",
    "sa.plot_annotations(anno_all, img_filename, img_filepath, csv_filepath, worker_marker_size, cluster_marker_size, show_ref_points, show_workers, show_clusters, show_correctness_workers, show_correctness_clusters, show_NN_inc, correctness_threshold, clustering_params, bigger_window_size)"
   ]
  },
  {
   "cell_type": "code",
   "execution_count": null,
   "metadata": {
    "scrolled": false
   },
   "outputs": [],
   "source": [
    "show_ref_points = True\n",
    "show_workers = True\n",
    "show_clusters = True\n",
    "clustering_params = ['AffinityPropagation', -350]\n",
    "show_correctness_workers = True\n",
    "show_correctness_clusters = False\n",
    "show_NN_inc = False\n",
    "correctness_threshold = 20\n",
    "\n",
    "sa.plot_annotations(anno_all, img_filename, img_filepath, csv_filepath, worker_marker_size, cluster_marker_size, show_ref_points, show_workers, show_clusters, show_correctness_workers, show_correctness_clusters, show_NN_inc, correctness_threshold, clustering_params, bigger_window_size)"
   ]
  },
  {
   "cell_type": "markdown",
   "metadata": {},
   "source": [
    "# Worker Average Speed"
   ]
  },
  {
   "cell_type": "code",
   "execution_count": null,
   "metadata": {
    "scrolled": false
   },
   "outputs": [],
   "source": [
    "bigger_window_size = False\n",
    "sa.plot_avg_time_per_click(anno_one_snr, bigger_window_size)\n",
    "bigger_window_size = True"
   ]
  },
  {
   "cell_type": "markdown",
   "metadata": {},
   "source": [
    "# Accuracy and Speed\n",
    "Across clicks, investigate the relationship between accuracy (measured as distance from the click to the nearest neighbor) and speed (measured as the difference between the click's timestamp and the previous click's timestamp)."
   ]
  },
  {
   "cell_type": "code",
   "execution_count": null,
   "metadata": {
    "scrolled": false
   },
   "outputs": [],
   "source": [
    "show_correctness = False\n",
    "correctness_threshold = None\n",
    "clustering_params = None\n",
    "sa.plot_nnd_vs_time_spent(anno_all, img_filename, csv_filepath, show_correctness, correctness_threshold, clustering_params)"
   ]
  },
  {
   "cell_type": "markdown",
   "metadata": {},
   "source": [
    "#### Each point (each click) colored according to the correctness of the cluster of which it is a member:"
   ]
  },
  {
   "cell_type": "code",
   "execution_count": null,
   "metadata": {
    "scrolled": false
   },
   "outputs": [],
   "source": [
    "show_correctness = True\n",
    "correctness_threshold = 4\n",
    "clustering_params = ['AffinityPropagation', -350]\n",
    "sa.plot_nnd_vs_time_spent(anno_all, img_filename, csv_filepath, show_correctness, correctness_threshold, clustering_params)"
   ]
  },
  {
   "cell_type": "markdown",
   "metadata": {},
   "source": [
    "# Compare Accuracy Between Workers\n",
    "Compare accuracy (measured as distance from the click to the nearest neighbor) between different workers in a dataframe. Color each point (each click) according to the correctness of the cluster of which it is a member."
   ]
  },
  {
   "cell_type": "code",
   "execution_count": null,
   "metadata": {},
   "outputs": [],
   "source": [
    "show_correctness = True\n",
    "correctness_threshold = 4\n",
    "clustering_params = ['AffinityPropagation', -350]\n",
    "show_avgs = True\n",
    "sa.plot_nnd_vs_worker_index(anno_all, img_filename, csv_filepath, show_correctness, correctness_threshold, clustering_params, show_avgs)"
   ]
  },
  {
   "cell_type": "markdown",
   "metadata": {},
   "source": [
    "# Compare Speed Between Workers\n",
    "Compare speed (measured as the difference between the click's timestamp and the previous click's timestamp) between different workers in a dataframe. Color each point (each click) according to the correctness of the cluster of which it is a member."
   ]
  },
  {
   "cell_type": "code",
   "execution_count": null,
   "metadata": {},
   "outputs": [],
   "source": [
    "show_correctness = True\n",
    "correctness_threshold = 4\n",
    "clustering_params = ['AffinityPropagation', -350]\n",
    "show_avgs = True\n",
    "sa.plot_time_spent_vs_worker_index(anno_all, img_filename, csv_filepath, show_correctness, correctness_threshold, clustering_params, show_avgs)"
   ]
  },
  {
   "cell_type": "markdown",
   "metadata": {},
   "source": [
    "# Total Time Spent by Each Worker\n",
    "For each worker, plot total time spent (defined as the difference between the max timestamp and the min timestamp) vs. worker index. Each bar represents one worker."
   ]
  },
  {
   "cell_type": "code",
   "execution_count": null,
   "metadata": {
    "scrolled": false
   },
   "outputs": [],
   "source": [
    "sa.plot_total_time_vs_worker_index(anno_all, img_filename)"
   ]
  },
  {
   "cell_type": "code",
   "execution_count": null,
   "metadata": {
    "scrolled": false
   },
   "outputs": [],
   "source": [
    "bigger_window_size = False\n",
    "sa.plot_total_worker_time_hist(anno_one_snr, bigger_window_size)"
   ]
  },
  {
   "cell_type": "markdown",
   "metadata": {},
   "source": [
    "## Worker Pairwise Scores\n",
    "For each worker, score = sum(pair scores of that worker).\n",
    "\n",
    "Pair score for worker_A and worker_B \n",
    "\n",
    "= [(avg NND worker_A -> worker_B) + (avg NND worker_B -> worker_A)] / 2"
   ]
  },
  {
   "cell_type": "code",
   "execution_count": null,
   "metadata": {
    "scrolled": false
   },
   "outputs": [],
   "source": [
    "sa.plot_worker_pairwise_scores_hist(anno_one_snr, 'Worker Pairwise Scores', bigger_window_size)"
   ]
  },
  {
   "cell_type": "markdown",
   "metadata": {},
   "source": [
    "# Worker Error and Correctness\n",
    "It is helpful to view the following two plots together."
   ]
  },
  {
   "cell_type": "code",
   "execution_count": null,
   "metadata": {},
   "outputs": [],
   "source": [
    "sa.plot_error_rate_vs_spotted(anno_one_snr, clustering_params, correctness_threshold, csv_filepath, img_filename, 'FPR vs. Detection', bigger_window_size)"
   ]
  },
  {
   "cell_type": "code",
   "execution_count": null,
   "metadata": {},
   "outputs": [],
   "source": [
    "sa.plot_workers_correct_rate(anno_one_snr, clustering_params, correctness_threshold, csv_filepath, img_filename, 'TPR Histogram', bigger_window_size)\n"
   ]
  },
  {
   "cell_type": "code",
   "execution_count": null,
   "metadata": {},
   "outputs": [],
   "source": []
  }
 ],
 "metadata": {
  "kernelspec": {
   "display_name": "Python 3",
   "language": "python",
   "name": "python3"
  },
  "language_info": {
   "codemirror_mode": {
    "name": "ipython",
    "version": 3
   },
   "file_extension": ".py",
   "mimetype": "text/x-python",
   "name": "python",
   "nbconvert_exporter": "python",
   "pygments_lexer": "ipython3",
   "version": "3.6.5"
  }
 },
 "nbformat": 4,
 "nbformat_minor": 2
}
