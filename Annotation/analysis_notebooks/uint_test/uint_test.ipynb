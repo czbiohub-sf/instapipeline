{
 "cells": [
  {
   "cell_type": "code",
   "execution_count": 4,
   "metadata": {
    "scrolled": false
   },
   "outputs": [
    {
     "name": "stdout",
     "output_type": "stream",
     "text": [
      "using skimage\n",
      "\n",
      "uint8\n",
      "uint8\n",
      "uint8\n",
      "uint8\n",
      "uint8\n",
      "\n",
      "using open cv\n",
      "\n",
      "uint8 original\n",
      "uint8 grayscale\n",
      "uint8 original\n",
      "uint8 grayscale\n",
      "uint8 original\n",
      "uint8 grayscale\n",
      "uint8 original\n",
      "uint8 grayscale\n",
      "uint8 original\n",
      "uint8 grayscale\n"
     ]
    }
   ],
   "source": [
    "from skimage import img_as_ubyte\n",
    "from skimage import io\n",
    "import cv2\n",
    "\n",
    "print('using skimage')\n",
    "print()\n",
    "for name in ['real', 'real_blacked', 'real_crop', 'sim', 'sim_inv']:\n",
    "    filename = name + '.png'\n",
    "    image = io.imread(filename)\n",
    "    print(image.dtype)\n",
    "\n",
    "print()\n",
    "print('using open cv')\n",
    "print()\n",
    "for name in ['real', 'real_blacked', 'real_crop', 'sim', 'sim_inv']:\n",
    "    filename = name + '.png'\n",
    "    img = cv2.imread(filename)\n",
    "    print(img.dtype, 'original')\n",
    "    img_gray = cv2.cvtColor(img, cv2.COLOR_RGB2GRAY)\n",
    "    print(img_gray.dtype, 'grayscale')"
   ]
  },
  {
   "cell_type": "code",
   "execution_count": null,
   "metadata": {},
   "outputs": [],
   "source": []
  }
 ],
 "metadata": {
  "kernelspec": {
   "display_name": "Python 3",
   "language": "python",
   "name": "python3"
  },
  "language_info": {
   "codemirror_mode": {
    "name": "ipython",
    "version": 3
   },
   "file_extension": ".py",
   "mimetype": "text/x-python",
   "name": "python",
   "nbconvert_exporter": "python",
   "pygments_lexer": "ipython3",
   "version": "3.6.5"
  }
 },
 "nbformat": 4,
 "nbformat_minor": 2
}
