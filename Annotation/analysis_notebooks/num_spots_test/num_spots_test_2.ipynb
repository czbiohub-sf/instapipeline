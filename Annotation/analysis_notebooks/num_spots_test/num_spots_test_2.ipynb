{
 "cells": [
  {
   "cell_type": "markdown",
   "metadata": {},
   "source": [
    "# Objective\n",
    "\n",
    "This notebook shows the spot images generated to test worker fatigue and ready for worker annotations.\n",
    "\n",
    " -\tbackground image: MAX_ISP_300_2.tif (tissue)\n",
    " -\tnumber of spots = [50, 75, 100, 125, 150, 175, 200, 225, 250]"
   ]
  },
  {
   "cell_type": "code",
   "execution_count": 1,
   "metadata": {},
   "outputs": [
    {
     "ename": "ModuleNotFoundError",
     "evalue": "No module named 'SpotImage'",
     "output_type": "error",
     "traceback": [
      "\u001b[0;31m---------------------------------------------------------------------------\u001b[0m",
      "\u001b[0;31mModuleNotFoundError\u001b[0m                       Traceback (most recent call last)",
      "\u001b[0;32m<ipython-input-1-572c819269ab>\u001b[0m in \u001b[0;36m<module>\u001b[0;34m()\u001b[0m\n\u001b[1;32m      1\u001b[0m \u001b[0;32mimport\u001b[0m \u001b[0msys\u001b[0m\u001b[0;34m\u001b[0m\u001b[0m\n\u001b[1;32m      2\u001b[0m \u001b[0msys\u001b[0m\u001b[0;34m.\u001b[0m\u001b[0mpath\u001b[0m\u001b[0;34m.\u001b[0m\u001b[0minsert\u001b[0m\u001b[0;34m(\u001b[0m\u001b[0;36m0\u001b[0m\u001b[0;34m,\u001b[0m \u001b[0;34m'/Users/jenny.vo-phamhi/Documents/FISH-annotation/SpotImage/SpotImage.py'\u001b[0m\u001b[0;34m)\u001b[0m\u001b[0;34m\u001b[0m\u001b[0m\n\u001b[0;32m----> 3\u001b[0;31m \u001b[0;32mfrom\u001b[0m \u001b[0mSpotImage\u001b[0m \u001b[0;32mimport\u001b[0m \u001b[0mSpotImage\u001b[0m\u001b[0;34m\u001b[0m\u001b[0m\n\u001b[0m\u001b[1;32m      4\u001b[0m \u001b[0;32mimport\u001b[0m \u001b[0mmatplotlib\u001b[0m\u001b[0;34m.\u001b[0m\u001b[0mpyplot\u001b[0m \u001b[0;32mas\u001b[0m \u001b[0mplt\u001b[0m\u001b[0;34m\u001b[0m\u001b[0m\n\u001b[1;32m      5\u001b[0m \u001b[0;32mimport\u001b[0m \u001b[0mnumpy\u001b[0m \u001b[0;32mas\u001b[0m \u001b[0mnp\u001b[0m\u001b[0;34m\u001b[0m\u001b[0m\n",
      "\u001b[0;31mModuleNotFoundError\u001b[0m: No module named 'SpotImage'"
     ]
    }
   ],
   "source": [
    "import sys\n",
    "sys.path.insert(0, '../../../FISH-annotation/SpotImage')\n",
    "from SpotImage import SpotImage\n",
    "import matplotlib.pyplot as plt\n",
    "import numpy as np\n",
    "from sklearn.neighbors import KDTree\n",
    "from matplotlib.lines import Line2D\n",
    "import math\n",
    "\n",
    "\"\"\"\n",
    "Instantiate the SpotImage.\n",
    "\"\"\"\n",
    "\n",
    "bg_img_filename = 'MAX_ISP_300_2.tif'\n",
    "global_intensity_dial = 0   # raise the threshold found by Otsu's"
   ]
  },
  {
   "cell_type": "markdown",
   "metadata": {},
   "source": [
    "### These parameters are the same for all images in this batch."
   ]
  },
  {
   "cell_type": "code",
   "execution_count": null,
   "metadata": {},
   "outputs": [],
   "source": [
    "plot_spots = True\n",
    "plot_img = True\n",
    "save_spots = True\n",
    "save_img = True\n",
    "\n",
    "snr_sigma = 0\n",
    "snr_threshold = 0"
   ]
  },
  {
   "cell_type": "markdown",
   "metadata": {},
   "source": [
    "### These parameters vary."
   ]
  },
  {
   "cell_type": "code",
   "execution_count": null,
   "metadata": {},
   "outputs": [],
   "source": [
    "snr_mu_list = [10]\n",
    "density_list = [None]\n",
    "num_spots_list = np.arange(25, 525, 25).tolist()"
   ]
  },
  {
   "cell_type": "markdown",
   "metadata": {},
   "source": [
    "### Generate spot images."
   ]
  },
  {
   "cell_type": "code",
   "execution_count": null,
   "metadata": {
    "scrolled": false
   },
   "outputs": [],
   "source": [
    "si = SpotImage(bg_img_filename = bg_img_filename, global_intensity_dial = global_intensity_dial)\n",
    "for num_spots in num_spots_list:\n",
    "    for snr_mu in snr_mu_list:\n",
    "        snr_distr_params = ['Gauss', snr_mu, snr_sigma]\n",
    "        for density in density_list:\n",
    "            name = 'snr_' + str(snr_mu) + '_numspots_' + str(num_spots)\n",
    "            spots_filename = name + '_spots.png'\n",
    "            spot_img_filename = name + '_spot_img.png'\n",
    "            csv_filename = name + '_coord_snr_list.csv'\n",
    "            si.generate_spot_image(num_spots = num_spots, snr_distr_params = snr_distr_params, snr_threshold = snr_threshold, plot_spots=plot_spots, plot_img=True, save_spots=True, save_img=True, spots_filename = spots_filename, spot_img_filename = spot_img_filename, density = density)\n",
    "            si.get_coord_snr_list_csv(csv_filename)"
   ]
  },
  {
   "cell_type": "code",
   "execution_count": null,
   "metadata": {},
   "outputs": [],
   "source": []
  }
 ],
 "metadata": {
  "kernelspec": {
   "display_name": "Python 3",
   "language": "python",
   "name": "python3"
  },
  "language_info": {
   "codemirror_mode": {
    "name": "ipython",
    "version": 3
   },
   "file_extension": ".py",
   "mimetype": "text/x-python",
   "name": "python",
   "nbconvert_exporter": "python",
   "pygments_lexer": "ipython3",
   "version": "3.6.5"
  }
 },
 "nbformat": 4,
 "nbformat_minor": 2
}
