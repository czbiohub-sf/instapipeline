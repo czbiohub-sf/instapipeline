{
 "cells": [
  {
   "cell_type": "markdown",
   "metadata": {},
   "source": [
    "# Objective\n",
    "\n",
    "This notebook demonstrates methods in the BaseAnnotation class that are useful for working with raw annotations, such as slicing and getting basic info for clicks, for workers, etc. This is the first step, before annotations can be analyzed by methods in the SpotAnnotationAnalysis class.\n",
    "\n",
    "# I/O\n",
    "\n",
    "- In: json file containing worker annotations from Quantius.\n",
    "- Out: QuantiusAnnotation object."
   ]
  },
  {
   "cell_type": "code",
   "execution_count": 2,
   "metadata": {},
   "outputs": [],
   "source": [
    "import sys\n",
    "sys.path.insert(0, './fishanno')\n",
    "from QuantiusAnnotation import QuantiusAnnotation\n",
    "import util"
   ]
  },
  {
   "cell_type": "markdown",
   "metadata": {},
   "source": [
    "#### Instantiate a QuantiusAnnotation object. \n",
    "QuantiusAnnotation is a child of the BaseAnnotation class. _import_annotations() is implemented in the QuantiusAnnotation class. All other methods are implemented in BaseAnnotation."
   ]
  },
  {
   "cell_type": "code",
   "execution_count": 2,
   "metadata": {},
   "outputs": [],
   "source": [
    "json_filepath = '/Users/jenny.vo-phamhi/Documents/FISH-annotation/Annotation/datasets/smFISH_test/smFISH_cells.json'\n",
    "img_filename = 'C2-ISP_293T_TFRC_InSituPrep_20180712_1_MMStack_Pos0_300.png'\n",
    "qa = QuantiusAnnotation(json_filepath, img_filename)"
   ]
  },
  {
   "cell_type": "markdown",
   "metadata": {},
   "source": [
    "#### Get the dataframe containing all annotation data in qa.\n",
    "Print the first five lines of the dataframe."
   ]
  },
  {
   "cell_type": "code",
   "execution_count": 3,
   "metadata": {},
   "outputs": [
    {
     "name": "stdout",
     "output_type": "stream",
     "text": [
      "   timestamp    x    y annotation_type  height  width  \\\n",
      "0      10926  240  223      crosshairs     450    300   \n",
      "1      11165  143  197      crosshairs     450    300   \n",
      "2      11500  120  179      crosshairs     450    300   \n",
      "3      11768  154  185      crosshairs     450    300   \n",
      "4      12003  175  178      crosshairs     450    300   \n",
      "\n",
      "                                      image_filename  \\\n",
      "0  C2-ISP_293T_TFRC_InSituPrep_20180712_1_MMStack...   \n",
      "1  C2-ISP_293T_TFRC_InSituPrep_20180712_1_MMStack...   \n",
      "2  C2-ISP_293T_TFRC_InSituPrep_20180712_1_MMStack...   \n",
      "3  C2-ISP_293T_TFRC_InSituPrep_20180712_1_MMStack...   \n",
      "4  C2-ISP_293T_TFRC_InSituPrep_20180712_1_MMStack...   \n",
      "\n",
      "            time_when_completed      worker_id  \n",
      "0  Fri Jul 27 18:28:16 PDT 2018  ASY5AZCZEM04L  \n",
      "1  Fri Jul 27 18:28:16 PDT 2018  ASY5AZCZEM04L  \n",
      "2  Fri Jul 27 18:28:16 PDT 2018  ASY5AZCZEM04L  \n",
      "3  Fri Jul 27 18:28:16 PDT 2018  ASY5AZCZEM04L  \n",
      "4  Fri Jul 27 18:28:16 PDT 2018  ASY5AZCZEM04L  \n"
     ]
    }
   ],
   "source": [
    "anno_all = qa.df()\n",
    "util.print_head(anno_all)"
   ]
  },
  {
   "cell_type": "markdown",
   "metadata": {},
   "source": [
    "#### Get a numpy array of all unique worker IDs in the dataframe."
   ]
  },
  {
   "cell_type": "code",
   "execution_count": 4,
   "metadata": {},
   "outputs": [
    {
     "name": "stdout",
     "output_type": "stream",
     "text": [
      "['A13CT21GTT7INW' 'A191V8LNTTLHSA' 'A19ISUEMCS9YNE' 'A19SHPX8ZN7UY1'\n",
      " 'A1GVYQ6P90N3ZE' 'A1OFOVU6TCQ2K3' 'A2A38MH58CBN8L' 'A2KFULED9WP0I0'\n",
      " 'A2M940B6G3WN27' 'A2QG1N2LFV0VXW' 'A2TU89V68N6GPU' 'A36WLGFSYDQAS7'\n",
      " 'A3LIVCP30S7HRI' 'A3NMOHKHT2RJI' 'A3PVI0ZLZ32BK8' 'A3T0HV1ON5E9RQ'\n",
      " 'A3UE49REX108ZE' 'AB3EPLA83G1IZ' 'ACIZS6S5OQKQ6' 'AEACA7THUTQLQ'\n",
      " 'AEPREPIPGW0V9' 'AF1HT6VL272QZ' 'ASWMTGX47CG99' 'ASY5AZCZEM04L'\n",
      " 'AUFY8NNDMV54S' 'AVQND8233HQWK' 'AWDSIX3ULD32V' 'AWPPIW21DGL29']\n",
      "28 workers in C2-ISP_293T_TFRC_InSituPrep_20180712_1_MMStack_Pos0_300.png\n"
     ]
    }
   ],
   "source": [
    "worker_list = util.get_workers(anno_all)\n",
    "print(worker_list)\n",
    "print(str(len(worker_list)) + ' workers in ' + img_filename)"
   ]
  },
  {
   "cell_type": "markdown",
   "metadata": {},
   "source": [
    "#### Slice the dataframe for just one worker."
   ]
  },
  {
   "cell_type": "code",
   "execution_count": 5,
   "metadata": {
    "scrolled": true
   },
   "outputs": [
    {
     "name": "stdout",
     "output_type": "stream",
     "text": [
      "   timestamp    x    y annotation_type  height  width  \\\n",
      "0       3868  279  377      crosshairs     450    300   \n",
      "1       4923  274  385      crosshairs     450    300   \n",
      "2       6020  264  370      crosshairs     450    300   \n",
      "3       7295  280  358      crosshairs     450    300   \n",
      "4       8819  287  342      crosshairs     450    300   \n",
      "\n",
      "                                      image_filename  \\\n",
      "0  C2-ISP_293T_TFRC_InSituPrep_20180712_1_MMStack...   \n",
      "1  C2-ISP_293T_TFRC_InSituPrep_20180712_1_MMStack...   \n",
      "2  C2-ISP_293T_TFRC_InSituPrep_20180712_1_MMStack...   \n",
      "3  C2-ISP_293T_TFRC_InSituPrep_20180712_1_MMStack...   \n",
      "4  C2-ISP_293T_TFRC_InSituPrep_20180712_1_MMStack...   \n",
      "\n",
      "            time_when_completed       worker_id  \n",
      "0  Sat Jul 28 02:27:17 PDT 2018  A13CT21GTT7INW  \n",
      "1  Sat Jul 28 02:27:17 PDT 2018  A13CT21GTT7INW  \n",
      "2  Sat Jul 28 02:27:17 PDT 2018  A13CT21GTT7INW  \n",
      "3  Sat Jul 28 02:27:17 PDT 2018  A13CT21GTT7INW  \n",
      "4  Sat Jul 28 02:27:17 PDT 2018  A13CT21GTT7INW  \n"
     ]
    }
   ],
   "source": [
    "worker_id = 'A13CT21GTT7INW'\n",
    "anno_one_worker = util.slice_by_worker(anno_all, worker_id)\n",
    "util.print_head(anno_one_worker)"
   ]
  },
  {
   "cell_type": "markdown",
   "metadata": {},
   "source": [
    "#### Get the list of timestamps for all the worker's clicks."
   ]
  },
  {
   "cell_type": "code",
   "execution_count": 6,
   "metadata": {},
   "outputs": [
    {
     "name": "stdout",
     "output_type": "stream",
     "text": [
      "[3868, 4923, 6020, 7295, 8819, 9844, 10786, 11830, 13083, 14583, 15680, 17581, 19157, 20876, 22079, 23284, 24650, 27009, 28237, 29232, 30230, 31114, 32120, 33239, 34270, 35274, 36532, 37585, 38464, 39716, 40957, 42222, 43023, 44061, 46194, 48544, 49951, 51137, 52510, 55879, 58546, 60047]\n"
     ]
    }
   ],
   "source": [
    "print(util.get_timestamps(anno_one_worker))"
   ]
  },
  {
   "cell_type": "markdown",
   "metadata": {},
   "source": [
    "#### Get a numpy array of properties for all clicks in the dataframe.\n",
    "    Each row corresponds with one annotation in the dataframe\n",
    "    Columns:\n",
    "        x coord\n",
    "        y coord\n",
    "        time spent (time_spent = 0 indicates first click of an occasion (fencepost case))\n",
    "        string worker ID"
   ]
  },
  {
   "cell_type": "code",
   "execution_count": 7,
   "metadata": {},
   "outputs": [
    {
     "data": {
      "text/plain": [
       "array([[279, 377, 0, 'A13CT21GTT7INW'],\n",
       "       [274, 385, 1055, 'A13CT21GTT7INW'],\n",
       "       [264, 370, 1097, 'A13CT21GTT7INW'],\n",
       "       [280, 358, 1275, 'A13CT21GTT7INW'],\n",
       "       [287, 342, 1524, 'A13CT21GTT7INW'],\n",
       "       [290, 327, 1025, 'A13CT21GTT7INW'],\n",
       "       [277, 313, 942, 'A13CT21GTT7INW'],\n",
       "       [272, 299, 1044, 'A13CT21GTT7INW'],\n",
       "       [253, 307, 1253, 'A13CT21GTT7INW'],\n",
       "       [253, 324, 1500, 'A13CT21GTT7INW'],\n",
       "       [240, 354, 1097, 'A13CT21GTT7INW'],\n",
       "       [214, 301, 1901, 'A13CT21GTT7INW'],\n",
       "       [227, 265, 1576, 'A13CT21GTT7INW'],\n",
       "       [251, 259, 1719, 'A13CT21GTT7INW'],\n",
       "       [264, 272, 1203, 'A13CT21GTT7INW'],\n",
       "       [282, 271, 1205, 'A13CT21GTT7INW'],\n",
       "       [270, 258, 1366, 'A13CT21GTT7INW'],\n",
       "       [286, 226, 2359, 'A13CT21GTT7INW'],\n",
       "       [277, 204, 1228, 'A13CT21GTT7INW'],\n",
       "       [256, 207, 995, 'A13CT21GTT7INW'],\n",
       "       [243, 221, 998, 'A13CT21GTT7INW'],\n",
       "       [238, 240, 884, 'A13CT21GTT7INW'],\n",
       "       [211, 226, 1006, 'A13CT21GTT7INW'],\n",
       "       [200, 209, 1119, 'A13CT21GTT7INW'],\n",
       "       [157, 198, 1031, 'A13CT21GTT7INW'],\n",
       "       [143, 190, 1004, 'A13CT21GTT7INW'],\n",
       "       [147, 156, 1258, 'A13CT21GTT7INW'],\n",
       "       [159, 170, 1053, 'A13CT21GTT7INW'],\n",
       "       [178, 170, 879, 'A13CT21GTT7INW'],\n",
       "       [198, 163, 1252, 'A13CT21GTT7INW'],\n",
       "       [201, 132, 1241, 'A13CT21GTT7INW'],\n",
       "       [109, 164, 1265, 'A13CT21GTT7INW'],\n",
       "       [107, 185, 801, 'A13CT21GTT7INW'],\n",
       "       [122, 166, 1038, 'A13CT21GTT7INW'],\n",
       "       [233, 128, 2133, 'A13CT21GTT7INW'],\n",
       "       [240, 113, 2350, 'A13CT21GTT7INW'],\n",
       "       [259, 115, 1407, 'A13CT21GTT7INW'],\n",
       "       [246, 128, 1186, 'A13CT21GTT7INW'],\n",
       "       [259, 152, 1373, 'A13CT21GTT7INW'],\n",
       "       [156, 215, 3369, 'A13CT21GTT7INW'],\n",
       "       [223, 159, 2667, 'A13CT21GTT7INW'],\n",
       "       [236, 173, 1501, 'A13CT21GTT7INW']], dtype=object)"
      ]
     },
     "execution_count": 7,
     "metadata": {},
     "output_type": "execute_result"
    }
   ],
   "source": [
    "util.get_click_properties(anno_one_worker)"
   ]
  },
  {
   "cell_type": "markdown",
   "metadata": {},
   "source": [
    "#### Flip the values of a list about a height.\n",
    "Useful for flipping y axis to plotting over an image with a flipped coordinate system."
   ]
  },
  {
   "cell_type": "code",
   "execution_count": 8,
   "metadata": {},
   "outputs": [
    {
     "data": {
      "text/plain": [
       "[300, 299, 275, 136, 2, 0]"
      ]
     },
     "execution_count": 8,
     "metadata": {},
     "output_type": "execute_result"
    }
   ],
   "source": [
    "vec = [0,1,25,164,298,300]\n",
    "height = 300\n",
    "util.flip(vec, height)"
   ]
  },
  {
   "cell_type": "code",
   "execution_count": null,
   "metadata": {},
   "outputs": [],
   "source": []
  }
 ],
 "metadata": {
  "kernelspec": {
   "display_name": "Python 3",
   "language": "python",
   "name": "python3"
  },
  "language_info": {
   "codemirror_mode": {
    "name": "ipython",
    "version": 3
   },
   "file_extension": ".py",
   "mimetype": "text/x-python",
   "name": "python",
   "nbconvert_exporter": "python",
   "pygments_lexer": "ipython3",
   "version": "3.6.5"
  }
 },
 "nbformat": 4,
 "nbformat_minor": 2
}
